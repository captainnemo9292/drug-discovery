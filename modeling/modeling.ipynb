{
 "cells": [
  {
   "cell_type": "markdown",
   "metadata": {},
   "source": [
    "## Binding Affinity Prediction with ACNN"
   ]
  },
  {
   "cell_type": "code",
   "execution_count": null,
   "metadata": {},
   "outputs": [],
   "source": [
    "import pandas as pd\n",
    "from rdkit import Chem\n",
    "import torch\n",
    "from torch.utils.data import DataLoader\n",
    "from torch.optim import Adam"
   ]
  },
  {
   "cell_type": "code",
   "execution_count": null,
   "metadata": {},
   "outputs": [],
   "source": [
    "from dgllife.data import PDBBind\n",
    "\n",
    "trainset = PDBBind(subset='refined')"
   ]
  },
  {
   "cell_type": "code",
   "execution_count": null,
   "metadata": {},
   "outputs": [],
   "source": [
    "import dgl\n",
    "\n",
    "def collate(samples):\n",
    "    graphs, labels = map(list, zip(*samples))\n",
    "    batched_graph = dgl.batch_hetero(graphs)\n",
    "    return batched_graph, torch.tensor(labels)\n",
    "\n",
    "trainset_list = []\n",
    "glist = trainset[:][3]\n",
    "label_list = trainset[:][4]\n",
    "\n",
    "for h in range(len(glist)):\n",
    "    trainset_list.append(tuple([glist[h], label_list[h]]))\n",
    "    \n",
    "dataset = tuple(trainset_list)\n",
    "data_loader = DataLoader(dataset, batch_size=32, shuffle=True,\n",
    "                         collate_fn=collate)"
   ]
  },
  {
   "cell_type": "code",
   "execution_count": null,
   "metadata": {},
   "outputs": [],
   "source": [
    "from dgllife.model.model_zoo.acnn import ACNN\n",
    "\n",
    "model = ACNN()"
   ]
  },
  {
   "cell_type": "code",
   "execution_count": null,
   "metadata": {},
   "outputs": [],
   "source": [
    "import torch.optim as optim\n",
    "import torch.nn as nn\n",
    "import torch \n",
    "\n",
    "loss_func = nn.MSELoss()\n",
    "optimizer = optim.Adam(model.parameters(), lr=0.001)\n",
    "model.train()\n",
    "\n",
    "epoch_losses = []\n",
    "for epoch in range(1000):\n",
    "    epoch_loss = 0\n",
    "    for step, (bg, label) in enumerate(data_loader):\n",
    "        prediction = model(bg)\n",
    "        loss = loss_func(prediction, label.reshape(-1,1))\n",
    "        optimizer.zero_grad()\n",
    "        loss.backward()\n",
    "        optimizer.step()\n",
    "        epoch_loss += loss.detach().item()\n",
    "        print(\"Epoch {} | Step {} | loss {} |\".format(epoch, step, loss.detach().item()))\n",
    "        if step % 10 == 0:\n",
    "            torch.save(model.state_dict(), 'COVID19_binding_affinity.pth')\n",
    "    epoch_loss /= (step + 1) \n",
    "    print('Epoch {}, loss {:.4f}'.format(epoch, epoch_loss))\n",
    "    torch.save(model.state_dict(), 'COVID19_binding_affinity.pth')\n",
    "    epoch_losses.append(epoch_loss)"
   ]
  },
  {
   "cell_type": "markdown",
   "metadata": {},
   "source": [
    "## Molecule Generation with DGMG"
   ]
  },
  {
   "cell_type": "code",
   "execution_count": null,
   "metadata": {},
   "outputs": [],
   "source": [
    "from rdkit.Chem import rdmolfiles, rdmolops\n",
    "from utils import Subset\n",
    "from utils import Optimizer\n",
    "from dgl.data.chem import utils\n",
    "from dgl.model_zoo.chem import load_pretrained\n",
    "from dgl.model_zoo.chem.dgmg import MoleculeEnv\n",
    "import torch\n",
    "from torch.utils.data import DataLoader\n",
    "from torch.optim import Adam\n",
    "import copy"
   ]
  },
  {
   "cell_type": "code",
   "execution_count": null,
   "metadata": {},
   "outputs": [],
   "source": [
    "from rdkit import Chem\n",
    "\n",
    "atom_types=['C', 'N', 'O', 'S', 'F', 'Si', 'P', 'Cl', 'Br', 'Mg', 'Na', 'Ca', 'Fe', 'As', 'Al', 'I', 'B', 'V', 'K', 'Tl', 'Yb', 'Sb', 'Sn', 'Ag', 'Pd', 'Co', 'Se', 'Ti', 'Zn', 'H', 'Li', 'Ge', 'Cu', 'Au', 'Ni', 'Cd', 'In', 'Mn', 'Zr', 'Cr', 'Pt', 'Hg', 'Pb']\n",
    "bond_types=[Chem.rdchem.BondType.SINGLE, Chem.rdchem.BondType.DOUBLE, Chem.rdchem.BondType.TRIPLE, Chem.rdchem.BondType.AROMATIC]\n",
    "node_hidden_size=128\n",
    "num_prop_rounds=2\n",
    "dropout=0.2\n",
    "nepochs=400\n",
    "batch_size=1\n",
    "lr=1e-4"
   ]
  },
  {
   "cell_type": "code",
   "execution_count": null,
   "metadata": {},
   "outputs": [],
   "source": [
    "molecule_env = MoleculeEnv(atom_types=atom_types, bond_types=bond_types)\n",
    "smile_data = pd.read_csv('COVID19_molecule.csv', index_col=0)\n",
    "subs = Subset(smile_data['SMILES'].tolist(),'canonical', molecule_env)\n",
    "loader = DataLoader(subs, batch_size)"
   ]
  },
  {
   "cell_type": "code",
   "execution_count": null,
   "metadata": {},
   "outputs": [],
   "source": [
    "from dgllife.model.model_zoo.dgmg import DGMG\n",
    "\n",
    "model = DGMG(atom_types=atom_types,\n",
    "                            bond_types=bond_types,\n",
    "                            node_hidden_size=node_hidden_size,\n",
    "                            num_prop_rounds=num_prop_rounds,\n",
    "                            dropout=dropout)"
   ]
  },
  {
   "cell_type": "code",
   "execution_count": null,
   "metadata": {},
   "outputs": [],
   "source": [
    "optimizer = Optimizer(lr, Adam(model.parameters(), lr))\n",
    "model.train()\n",
    "for epoch in range(100):\n",
    "    for step, data in enumerate(loader):\n",
    "        optimizer.zero_grad()\n",
    "        logp = model(actions=data, compute_log_prob=True)\n",
    "        prob=logp.detach().exp()\n",
    "        loss_averaged = - logp\n",
    "        prob_averaged = prob\n",
    "        optimizer.backward_and_step(loss_averaged)\n",
    "        torch.save(model.state_dict(), 'COVID19.pth')\n",
    "        print(\"Epoch {} | Step {} | loss_averaged {} | Output {} |\".format(epoch, step, loss_averaged.item(), model(rdkit_mol=True, max_num_steps=400)))"
   ]
  }
 ],
 "metadata": {
  "kernelspec": {
   "display_name": "Python [conda env:py3] *",
   "language": "python",
   "name": "conda-env-py3-py"
  },
  "language_info": {
   "codemirror_mode": {
    "name": "ipython",
    "version": 3
   },
   "file_extension": ".py",
   "mimetype": "text/x-python",
   "name": "python",
   "nbconvert_exporter": "python",
   "pygments_lexer": "ipython3",
   "version": "3.6.10"
  }
 },
 "nbformat": 4,
 "nbformat_minor": 4
}
